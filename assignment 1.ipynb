{
  "nbformat": 4,
  "nbformat_minor": 0,
  "metadata": {
    "colab": {
      "provenance": []
    },
    "kernelspec": {
      "name": "python3",
      "display_name": "Python 3"
    },
    "language_info": {
      "name": "python"
    }
  },
  "cells": [
    {
      "cell_type": "code",
      "execution_count": 1,
      "metadata": {
        "colab": {
          "base_uri": "https://localhost:8080/"
        },
        "id": "j4mqyHepi_S9",
        "outputId": "61b21bd3-7f51-427a-d2b6-6b696b9cd7f2"
      },
      "outputs": [
        {
          "output_type": "stream",
          "name": "stdout",
          "text": [
            "Enter a string: python\n",
            "Reversed string: noht\n"
          ]
        }
      ],
      "source": [
        "A = input(\"Enter a string: \")\n",
        "if len(A) < 2:\n",
        "    print(\"Input string must have at least 2 characters.\")\n",
        "else:\n",
        "    modified = A[2:]\n",
        "\n",
        "    reversed = modified[::-1]\n",
        "\n",
        "    print(\"Reversed string is:\",)"
      ]
    },
    {
      "cell_type": "code",
      "source": [
        "A = float(input(\"Enter first number: \"))\n",
        "B = float(input(\"Enter second number: \"))\n",
        "print(\"Addition:\", A+B)\n",
        "print(\"Subtraction:\", A-B)\n",
        "print(\"Multiplication:\", A*B)\n",
        "print(\"Division:\", A/B)"
      ],
      "metadata": {
        "colab": {
          "base_uri": "https://localhost:8080/"
        },
        "id": "LXkDBGkIjtQm",
        "outputId": "d76359cd-9f40-412f-e6f1-f07a75f9134d"
      },
      "execution_count": 2,
      "outputs": [
        {
          "output_type": "stream",
          "name": "stdout",
          "text": [
            "Enter first number: 10\n",
            "Enter second number: 20\n",
            "Addition: 30.0\n",
            "Subtraction: -10.0\n",
            "Multiplication: 200.0\n",
            "Division: 0.5\n"
          ]
        }
      ]
    },
    {
      "cell_type": "code",
      "source": [
        "input_sentence = input(\"Enter a sentence: \")\n",
        "\n",
        "modified_sentence = input_sentence.replace('python', 'pythons')\n",
        "\n",
        "print(\"Modified sentence:\", modified_sentence)"
      ],
      "metadata": {
        "colab": {
          "base_uri": "https://localhost:8080/"
        },
        "id": "YIu89CyFj8MZ",
        "outputId": "df566145-65a2-415a-8fd3-104cb3f38a2e"
      },
      "execution_count": 3,
      "outputs": [
        {
          "output_type": "stream",
          "name": "stdout",
          "text": [
            "Enter a sentence: I love playing with python\n",
            "Modified sentence: I love playing with pythons\n"
          ]
        }
      ]
    },
    {
      "cell_type": "code",
      "source": [
        "score = int(input(\"Enter class score\"))\n",
        "if(score>=90):\n",
        "  print(\"Grade: A\")\n",
        "elif(score>=80 and score<90):\n",
        "  print(\"Grade: B\")\n",
        "elif(score>=70 and score<80):\n",
        "  print(\"Grade: C\")\n",
        "elif(score>=60 and score<70):\n",
        "  print(\"Grade: D\")\n",
        "else:\n",
        "  print(\"F\")"
      ],
      "metadata": {
        "colab": {
          "base_uri": "https://localhost:8080/"
        },
        "id": "sjyVw7DLkSMa",
        "outputId": "701f5e4e-2f0d-415e-ddaa-ea3d31db87d6"
      },
      "execution_count": 6,
      "outputs": [
        {
          "output_type": "stream",
          "name": "stdout",
          "text": [
            "Enter class score75: \n",
            "Grade: C\n"
          ]
        }
      ]
    }
  ]
}
